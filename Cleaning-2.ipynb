{
 "cells": [
  {
   "cell_type": "markdown",
   "metadata": {},
   "source": [
    "# Overview"
   ]
  },
  {
   "cell_type": "markdown",
   "metadata": {},
   "source": [
    "The goal of this notebook is to explore the Google Play Store dataset in order to know more about the millions of apps that exist there. In order to learn about this data, we first start by cleaning and tidying it so we can be able to extract information from it."
   ]
  },
  {
   "cell_type": "markdown",
   "metadata": {},
   "source": [
    "Some of the things we are trying to learn about the data are:\n",
    "- What is the average price of the apps?\n",
    "- What are the app categories that dominate tha play store?\n",
    "- Who are the apps mostly targeted for?\n",
    "- What is the average rating of the apps?\n",
    "- Is there a relationship between the category of the app and its reviews?"
   ]
  },
  {
   "cell_type": "markdown",
   "metadata": {},
   "source": [
    "# Imports"
   ]
  },
  {
   "cell_type": "code",
   "execution_count": 1,
   "metadata": {},
   "outputs": [],
   "source": [
    "import pandas as pd\n",
    "import numpy as np\n",
    "import seaborn as sns\n",
    "import matplotlib as mpl\n",
    "import matplotlib.pyplot as plt\n",
    "from mpl_toolkits.mplot3d import Axes3D"
   ]
  },
  {
   "cell_type": "code",
   "execution_count": 2,
   "metadata": {},
   "outputs": [],
   "source": [
    "# read in our data\n",
    "store_data = pd.read_csv(\"data/google-play-store-apps/googleplaystore.csv\")\n",
    "reviews_data = pd.read_csv(\"data/google-play-store-apps/googleplaystore_user_reviews.csv\")"
   ]
  },
  {
   "cell_type": "code",
   "execution_count": 3,
   "metadata": {},
   "outputs": [],
   "source": [
    "# some stuff that could be used\n",
    "# pd.isnull(store_data).sum() > 0\n",
    "# store_data.isna().any(axis=0)\n",
    "# store_data.loc[store_data['Price'].isnull()]\n",
    "# print(store_data.iloc[5]['Price'])\n",
    "# store_data[pd.isnull(store_data).any(axis=1)]"
   ]
  },
  {
   "cell_type": "markdown",
   "metadata": {},
   "source": [
    "# Data Cleaning"
   ]
  },
  {
   "cell_type": "markdown",
   "metadata": {},
   "source": [
    "## Checking out the missing values\n",
    "\n",
    "First we inspect and check which attributes in the data have missing values."
   ]
  },
  {
   "cell_type": "code",
   "execution_count": 4,
   "metadata": {},
   "outputs": [
    {
     "data": {
      "text/plain": [
       "App               False\n",
       "Category          False\n",
       "Rating             True\n",
       "Reviews           False\n",
       "Size              False\n",
       "Installs          False\n",
       "Type               True\n",
       "Price             False\n",
       "Content Rating     True\n",
       "Genres            False\n",
       "Last Updated      False\n",
       "Current Ver        True\n",
       "Android Ver        True\n",
       "dtype: bool"
      ]
     },
     "execution_count": 4,
     "metadata": {},
     "output_type": "execute_result"
    }
   ],
   "source": [
    "pd.isnull(store_data).sum() > 0"
   ]
  },
  {
   "cell_type": "markdown",
   "metadata": {},
   "source": [
    "The `Rating`, `Type`, `Content Rating`, `Current Ver`, `Android Ver` attributes turned out to have NaN values.\n",
    "\n",
    "---\n",
    "\n",
    "#### Type:\n",
    "\n",
    "Let's start with `Type`; which is the attribute that indicates whether the app is `Paid` or `Free`."
   ]
  },
  {
   "cell_type": "code",
   "execution_count": null,
   "metadata": {},
   "outputs": [
    {
     "data": {
      "text/html": [
       "<div>\n",
       "<style scoped>\n",
       "    .dataframe tbody tr th:only-of-type {\n",
       "        vertical-align: middle;\n",
       "    }\n",
       "\n",
       "    .dataframe tbody tr th {\n",
       "        vertical-align: top;\n",
       "    }\n",
       "\n",
       "    .dataframe thead th {\n",
       "        text-align: right;\n",
       "    }\n",
       "</style>\n",
       "<table border=\"1\" class=\"dataframe\">\n",
       "  <thead>\n",
       "    <tr style=\"text-align: right;\">\n",
       "      <th></th>\n",
       "      <th>App</th>\n",
       "      <th>Category</th>\n",
       "      <th>Rating</th>\n",
       "      <th>Reviews</th>\n",
       "      <th>Size</th>\n",
       "      <th>Installs</th>\n",
       "      <th>Type</th>\n",
       "      <th>Price</th>\n",
       "      <th>Content Rating</th>\n",
       "      <th>Genres</th>\n",
       "      <th>Last Updated</th>\n",
       "      <th>Current Ver</th>\n",
       "      <th>Android Ver</th>\n",
       "    </tr>\n",
       "  </thead>\n",
       "  <tbody>\n",
       "    <tr>\n",
       "      <th>9148</th>\n",
       "      <td>Command &amp; Conquer: Rivals</td>\n",
       "      <td>FAMILY</td>\n",
       "      <td>NaN</td>\n",
       "      <td>0</td>\n",
       "      <td>Varies with device</td>\n",
       "      <td>0</td>\n",
       "      <td>NaN</td>\n",
       "      <td>0</td>\n",
       "      <td>Everyone 10+</td>\n",
       "      <td>Strategy</td>\n",
       "      <td>June 28, 2018</td>\n",
       "      <td>Varies with device</td>\n",
       "      <td>Varies with device</td>\n",
       "    </tr>\n",
       "  </tbody>\n",
       "</table>\n",
       "</div>"
      ],
      "text/plain": [
       "                            App Category  Rating Reviews                Size  \\\n",
       "9148  Command & Conquer: Rivals   FAMILY     NaN       0  Varies with device   \n",
       "\n",
       "     Installs Type Price Content Rating    Genres   Last Updated  \\\n",
       "9148        0  NaN     0   Everyone 10+  Strategy  June 28, 2018   \n",
       "\n",
       "             Current Ver         Android Ver  \n",
       "9148  Varies with device  Varies with device  "
      ]
     },
     "execution_count": 5,
     "metadata": {},
     "output_type": "execute_result"
    }
   ],
   "source": [
    "store_data.loc[store_data['Type'].isnull()]"
   ]
  },
  {
   "cell_type": "markdown",
   "metadata": {},
   "source": [
    "So the app in row `9148` named `Command & Conquer: Rivals` appears to be the only one with NaN value in `Type`.\n",
    "\n",
    "Since its `Price` attribute holds a price of $0, we could safely assume that it is a free app and fix the value of the `Type` to `Free`. Also, this assumption is confirmed by checking that the app is indeed free on the Android play store."
   ]
  },
  {
   "cell_type": "code",
   "execution_count": null,
   "metadata": {},
   "outputs": [
    {
     "data": {
      "text/html": [
       "<div>\n",
       "<style scoped>\n",
       "    .dataframe tbody tr th:only-of-type {\n",
       "        vertical-align: middle;\n",
       "    }\n",
       "\n",
       "    .dataframe tbody tr th {\n",
       "        vertical-align: top;\n",
       "    }\n",
       "\n",
       "    .dataframe thead th {\n",
       "        text-align: right;\n",
       "    }\n",
       "</style>\n",
       "<table border=\"1\" class=\"dataframe\">\n",
       "  <thead>\n",
       "    <tr style=\"text-align: right;\">\n",
       "      <th></th>\n",
       "      <th>App</th>\n",
       "      <th>Category</th>\n",
       "      <th>Rating</th>\n",
       "      <th>Reviews</th>\n",
       "      <th>Size</th>\n",
       "      <th>Installs</th>\n",
       "      <th>Type</th>\n",
       "      <th>Price</th>\n",
       "      <th>Content Rating</th>\n",
       "      <th>Genres</th>\n",
       "      <th>Last Updated</th>\n",
       "      <th>Current Ver</th>\n",
       "      <th>Android Ver</th>\n",
       "    </tr>\n",
       "  </thead>\n",
       "  <tbody>\n",
       "  </tbody>\n",
       "</table>\n",
       "</div>"
      ],
      "text/plain": [
       "Empty DataFrame\n",
       "Columns: [App, Category, Rating, Reviews, Size, Installs, Type, Price, Content Rating, Genres, Last Updated, Current Ver, Android Ver]\n",
       "Index: []"
      ]
     },
     "execution_count": 6,
     "metadata": {},
     "output_type": "execute_result"
    }
   ],
   "source": [
    "store_data.iloc[9148, store_data.columns.get_loc('Type')] = 'Free'\n",
    "store_data.loc[store_data['Type'].isnull()]"
   ]
  },
  {
   "cell_type": "markdown",
   "metadata": {},
   "source": [
    "---\n",
    "\n",
    "#### Rating:\n",
    "\n",
    "The `Rating` attribute represent the rating given by the users for the app on a scale from 1 to 5."
   ]
  },
  {
   "cell_type": "code",
   "execution_count": null,
   "metadata": {},
   "outputs": [
    {
     "data": {
      "text/plain": [
       "1474"
      ]
     },
     "execution_count": 7,
     "metadata": {},
     "output_type": "execute_result"
    }
   ],
   "source": [
    "store_data['Rating'].isnull().sum()"
   ]
  },
  {
   "cell_type": "markdown",
   "metadata": {},
   "source": [
    "There appears to be 1474 apps with missing rating values. There are a few approaches of adjusting these missing values. We decided to change each one of with a mean of ratings of other apps with same range of installs. For e.g: app 2 has a missing rating value and `100,000+` installs, if the mean rating of all the others apps with `100,000+` installs is `3.5`, then app 2's rating will be adjusted to `3.5`"
   ]
  },
  {
   "cell_type": "markdown",
   "metadata": {},
   "source": [
    "We first start by grouping the data by the number of installs, and finding the mean rating for each range of number of installs. This forms \"installs_rating_info\" dataframe that will be further used for rating imputations. 0 installs were given 0 rating."
   ]
  },
  {
   "cell_type": "code",
   "execution_count": null,
   "metadata": {},
   "outputs": [
    {
     "data": {
      "text/html": [
       "<div>\n",
       "<style scoped>\n",
       "    .dataframe tbody tr th:only-of-type {\n",
       "        vertical-align: middle;\n",
       "    }\n",
       "\n",
       "    .dataframe tbody tr th {\n",
       "        vertical-align: top;\n",
       "    }\n",
       "\n",
       "    .dataframe thead th {\n",
       "        text-align: right;\n",
       "    }\n",
       "</style>\n",
       "<table border=\"1\" class=\"dataframe\">\n",
       "  <thead>\n",
       "    <tr style=\"text-align: right;\">\n",
       "      <th></th>\n",
       "      <th>Rating</th>\n",
       "    </tr>\n",
       "    <tr>\n",
       "      <th>Installs</th>\n",
       "      <th></th>\n",
       "    </tr>\n",
       "  </thead>\n",
       "  <tbody>\n",
       "    <tr>\n",
       "      <th>0</th>\n",
       "      <td>0.000000</td>\n",
       "    </tr>\n",
       "    <tr>\n",
       "      <th>0+</th>\n",
       "      <td>0.000000</td>\n",
       "    </tr>\n",
       "    <tr>\n",
       "      <th>1+</th>\n",
       "      <td>5.000000</td>\n",
       "    </tr>\n",
       "    <tr>\n",
       "      <th>1,000+</th>\n",
       "      <td>4.066760</td>\n",
       "    </tr>\n",
       "    <tr>\n",
       "      <th>1,000,000+</th>\n",
       "      <td>4.220862</td>\n",
       "    </tr>\n",
       "    <tr>\n",
       "      <th>1,000,000,000+</th>\n",
       "      <td>4.258621</td>\n",
       "    </tr>\n",
       "    <tr>\n",
       "      <th>10+</th>\n",
       "      <td>4.624638</td>\n",
       "    </tr>\n",
       "    <tr>\n",
       "      <th>10,000+</th>\n",
       "      <td>4.039703</td>\n",
       "    </tr>\n",
       "    <tr>\n",
       "      <th>10,000,000+</th>\n",
       "      <td>4.313419</td>\n",
       "    </tr>\n",
       "    <tr>\n",
       "      <th>100+</th>\n",
       "      <td>4.363430</td>\n",
       "    </tr>\n",
       "    <tr>\n",
       "      <th>100,000+</th>\n",
       "      <td>4.110261</td>\n",
       "    </tr>\n",
       "    <tr>\n",
       "      <th>100,000,000+</th>\n",
       "      <td>4.411491</td>\n",
       "    </tr>\n",
       "    <tr>\n",
       "      <th>5+</th>\n",
       "      <td>4.611111</td>\n",
       "    </tr>\n",
       "    <tr>\n",
       "      <th>5,000+</th>\n",
       "      <td>4.024537</td>\n",
       "    </tr>\n",
       "    <tr>\n",
       "      <th>5,000,000+</th>\n",
       "      <td>4.243218</td>\n",
       "    </tr>\n",
       "    <tr>\n",
       "      <th>50+</th>\n",
       "      <td>4.419643</td>\n",
       "    </tr>\n",
       "    <tr>\n",
       "      <th>50,000+</th>\n",
       "      <td>4.051178</td>\n",
       "    </tr>\n",
       "    <tr>\n",
       "      <th>50,000,000+</th>\n",
       "      <td>4.351211</td>\n",
       "    </tr>\n",
       "    <tr>\n",
       "      <th>500+</th>\n",
       "      <td>4.176617</td>\n",
       "    </tr>\n",
       "    <tr>\n",
       "      <th>500,000+</th>\n",
       "      <td>4.168216</td>\n",
       "    </tr>\n",
       "    <tr>\n",
       "      <th>500,000,000+</th>\n",
       "      <td>4.350000</td>\n",
       "    </tr>\n",
       "    <tr>\n",
       "      <th>Free</th>\n",
       "      <td>19.000000</td>\n",
       "    </tr>\n",
       "  </tbody>\n",
       "</table>\n",
       "</div>"
      ],
      "text/plain": [
       "                   Rating\n",
       "Installs                 \n",
       "0                0.000000\n",
       "0+               0.000000\n",
       "1+               5.000000\n",
       "1,000+           4.066760\n",
       "1,000,000+       4.220862\n",
       "1,000,000,000+   4.258621\n",
       "10+              4.624638\n",
       "10,000+          4.039703\n",
       "10,000,000+      4.313419\n",
       "100+             4.363430\n",
       "100,000+         4.110261\n",
       "100,000,000+     4.411491\n",
       "5+               4.611111\n",
       "5,000+           4.024537\n",
       "5,000,000+       4.243218\n",
       "50+              4.419643\n",
       "50,000+          4.051178\n",
       "50,000,000+      4.351211\n",
       "500+             4.176617\n",
       "500,000+         4.168216\n",
       "500,000,000+     4.350000\n",
       "Free            19.000000"
      ]
     },
     "execution_count": 8,
     "metadata": {},
     "output_type": "execute_result"
    }
   ],
   "source": [
    "grouped_installs = store_data.groupby([\"Installs\"])\n",
    "installs_rating_info = grouped_installs.agg(np.mean)\n",
    "installs_rating_info = installs_rating_info.fillna(0)\n",
    "installs_rating_info"
   ]
  },
  {
   "cell_type": "markdown",
   "metadata": {},
   "source": [
    "A merge is formed between the \"installs_rating_info\" and another dataframe \"nanRatings\" that contains the same rows of \"store_data\" that contain the Rating \"NaN\" (1474 rows). This merge results in a new updated dataframe, called \"updated_Rating\" that has the same data as \"nanRatings\" but the \"Rating\" values have been replaced with the mean values per their number of installs values."
   ]
  },
  {
   "cell_type": "code",
   "execution_count": null,
   "metadata": {},
   "outputs": [
    {
     "name": "stderr",
     "output_type": "stream",
     "text": [
      "C:\\Users\\RandHood\\Anaconda3\\lib\\site-packages\\pandas\\core\\frame.py:3781: SettingWithCopyWarning: \n",
      "A value is trying to be set on a copy of a slice from a DataFrame\n",
      "\n",
      "See the caveats in the documentation: http://pandas.pydata.org/pandas-docs/stable/indexing.html#indexing-view-versus-copy\n",
      "  return super(DataFrame, self).rename(**kwargs)\n"
     ]
    }
   ],
   "source": [
    "nanRatings = store_data[store_data['Rating'].isnull()]\n",
    "nanRatings.rename(columns={'Rating':'Old_Rating'}, inplace=True)\n",
    "updated_Rating = pd.merge(nanRatings, installs_rating_info, left_on='Installs', right_on='Installs').drop('Old_Rating', axis=1)"
   ]
  },
  {
   "cell_type": "markdown",
   "metadata": {},
   "source": [
    "To impute the \"store_data\" rating values, we loop over the \"updated_Rating\" dataframe, replacing every rating of every row of NaN rating values in store_data with the respective rating of same application from updated_Rating df. This results in 0 NaN ratings in our data."
   ]
  },
  {
   "cell_type": "code",
   "execution_count": null,
   "metadata": {},
   "outputs": [],
   "source": [
    "for index, row in updated_Rating.iterrows():\n",
    "    indexOfApp = store_data[store_data['App']==row['App']].index\n",
    "    store_data.at[indexOfApp, 'Rating'] = row['Rating']\n",
    "    \n",
    "print(store_data['Rating'].isnull().sum())"
   ]
  },
  {
   "cell_type": "markdown",
   "metadata": {},
   "source": [
    "#### Shifted Row:\n",
    "Row 10472 had shifted data by 1 to the left and a missing category value. To fix this, we shifted each cell by 1 and checked Google Playstore for its category and genre values, both are Lifestyle."
   ]
  },
  {
   "cell_type": "code",
   "execution_count": null,
   "metadata": {},
   "outputs": [],
   "source": [
    "store_data.iloc[10472]"
   ]
  },
  {
   "cell_type": "code",
   "execution_count": null,
   "metadata": {},
   "outputs": [],
   "source": [
    "indexOfShiftedRow = store_data[store_data['App'] == store_data.iloc[10472]['App']].index[0]"
   ]
  },
  {
   "cell_type": "code",
   "execution_count": null,
   "metadata": {},
   "outputs": [],
   "source": [
    "store_data.at[indexOfShiftedRow,\"Android Ver\"] = store_data.at[indexOfShiftedRow,\"Current Ver\"]\n",
    "store_data.at[indexOfShiftedRow,\"Current Ver\"] = store_data.at[indexOfShiftedRow,\"Last Updated\"]\n",
    "store_data.at[indexOfShiftedRow,\"Last Updated\"] = store_data.at[indexOfShiftedRow,\"Genres\"]\n",
    "store_data.at[indexOfShiftedRow,\"Genres\"] = \"LifeStyle\"\n",
    "store_data.at[indexOfShiftedRow,\"Content Rating\"] = store_data.at[indexOfShiftedRow,\"Price\"]\n",
    "store_data.at[indexOfShiftedRow,\"Price\"] = store_data.at[indexOfShiftedRow,\"Type\"]\n",
    "store_data.at[indexOfShiftedRow,\"Type\"] = store_data.at[indexOfShiftedRow,\"Installs\"]\n",
    "store_data.at[indexOfShiftedRow,\"Installs\"] = store_data.at[indexOfShiftedRow,\"Size\"]\n",
    "store_data.at[indexOfShiftedRow,\"Size\"] = store_data.at[indexOfShiftedRow,\"Reviews\"]\n",
    "store_data.at[indexOfShiftedRow,\"Reviews\"] = store_data.at[indexOfShiftedRow,\"Rating\"]\n",
    "store_data.at[indexOfShiftedRow,\"Rating\"] = store_data.at[indexOfShiftedRow,\"Category\"]\n",
    "store_data.at[indexOfShiftedRow,\"Category\"] = \"LIFESTYLE\""
   ]
  },
  {
   "cell_type": "code",
   "execution_count": null,
   "metadata": {},
   "outputs": [],
   "source": [
    "store_data.iloc[10472]"
   ]
  },
  {
   "cell_type": "markdown",
   "metadata": {},
   "source": [
    "#### Andriod Version:\n",
    "\n",
    "Two rows have missing 'Andriod Ver' attribute, their andriod version values will be retrieved from the Google Playstore and filled by this values."
   ]
  },
  {
   "cell_type": "code",
   "execution_count": null,
   "metadata": {},
   "outputs": [],
   "source": [
    "store_data['Android Ver'].isnull().sum()"
   ]
  },
  {
   "cell_type": "code",
   "execution_count": null,
   "metadata": {},
   "outputs": [],
   "source": [
    "store_data[store_data['Android Ver'].isnull() == True ]"
   ]
  },
  {
   "cell_type": "code",
   "execution_count": null,
   "metadata": {},
   "outputs": [],
   "source": [
    "store_data.at[4490, \"Android Ver\"] = 1.1\n",
    "store_data.at[4453, \"Android Ver\"] = 6.1"
   ]
  },
  {
   "cell_type": "code",
   "execution_count": null,
   "metadata": {},
   "outputs": [],
   "source": [
    "store_data[store_data['Android Ver'].isnull() == True ]"
   ]
  },
  {
   "cell_type": "code",
   "execution_count": null,
   "metadata": {},
   "outputs": [],
   "source": [
    "pd.isnull(store_data).sum() > 0"
   ]
  },
  {
   "cell_type": "markdown",
   "metadata": {},
   "source": [
    "Now this dataset is cleaned with no missing values in any attribute except 'Current Ver' because its imputation won't be of major consequences to our data handling."
   ]
  },
  {
   "cell_type": "markdown",
   "metadata": {},
   "source": [
    "#### Google Playstore UserReviews:\n",
    "\n",
    "We need to clean this data as well, this would be easier, any null values of reviews will be dropped because it can't be imputed."
   ]
  },
  {
   "cell_type": "code",
   "execution_count": null,
   "metadata": {},
   "outputs": [],
   "source": [
    "pd.isnull(reviews_data).sum() "
   ]
  },
  {
   "cell_type": "code",
   "execution_count": null,
   "metadata": {},
   "outputs": [],
   "source": [
    "reviews_data_new = reviews_data.dropna().head()\n",
    "reviews_data_new"
   ]
  },
  {
   "cell_type": "code",
   "execution_count": null,
   "metadata": {},
   "outputs": [],
   "source": [
    "pd.isnull(reviews_data_new).sum() "
   ]
  },
  {
   "cell_type": "markdown",
   "metadata": {},
   "source": [
    "## Data Tidying"
   ]
  },
  {
   "cell_type": "markdown",
   "metadata": {},
   "source": [
    "Now that we handled all our missing values, we will put our dataset in a form that will help us to visualize the data and extract the useful information from it."
   ]
  },
  {
   "cell_type": "code",
   "execution_count": null,
   "metadata": {},
   "outputs": [],
   "source": [
    "store_data.dtypes"
   ]
  },
  {
   "cell_type": "markdown",
   "metadata": {},
   "source": [
    "First, we'll change `Reviews` column to be `int`."
   ]
  },
  {
   "cell_type": "code",
   "execution_count": null,
   "metadata": {},
   "outputs": [],
   "source": [
    "store_data.Reviews = store_data.Reviews.astype('int32')"
   ]
  },
  {
   "cell_type": "markdown",
   "metadata": {},
   "source": [
    "Then, we'll change `Price` column to be `float`."
   ]
  },
  {
   "cell_type": "code",
   "execution_count": null,
   "metadata": {},
   "outputs": [],
   "source": [
    "for index, row in store_data.iterrows():\n",
    "    store_data.at[index, 'Price'] = row['Price'].replace('$', '')\n",
    "store_data.Price = store_data.Price.astype('float64')\n",
    "store_data.dtypes"
   ]
  },
  {
   "cell_type": "markdown",
   "metadata": {},
   "source": [
    "Next is changing the `Installs` to be `int`."
   ]
  },
  {
   "cell_type": "code",
   "execution_count": null,
   "metadata": {},
   "outputs": [],
   "source": [
    "store_data['Installs'] = store_data['Installs'].str.replace('+','')\n",
    "store_data['Installs'] = store_data['Installs'].str.replace(',','')\n",
    "store_data['Installs'] = store_data['Installs'].astype('int32')"
   ]
  },
  {
   "cell_type": "markdown",
   "metadata": {},
   "source": [
    "Finally, we're changing the `Size` to be `float`."
   ]
  },
  {
   "cell_type": "code",
   "execution_count": null,
   "metadata": {},
   "outputs": [],
   "source": [
    "store_data_copy = store_data.copy()\n",
    "store_data_copy['Size'] = store_data_copy['Size'].str.replace('k','e+3')\n",
    "store_data_copy['Size'] = store_data_copy['Size'].str.replace('M','e+6')\n",
    "store_data_copy['Size'] = store_data_copy['Size'].replace('Varies with device', np.nan)\n",
    "store_data_copy['Size'] = store_data_copy['Size'].astype('float')"
   ]
  },
  {
   "cell_type": "markdown",
   "metadata": {},
   "source": [
    "Now done with the data cleaning for both datasets, time for our next step!"
   ]
  },
  {
   "cell_type": "markdown",
   "metadata": {},
   "source": [
    "# Data Visualization"
   ]
  },
  {
   "cell_type": "markdown",
   "metadata": {},
   "source": [
    "Now it's time to answer our questions! We use different data visualizing methods in order to do so and we provide the answers we get along the way."
   ]
  },
  {
   "cell_type": "markdown",
   "metadata": {},
   "source": [
    "First, let's explore the `Category` attribute. We start by seeing if there are certain categories that exist more than others in the app store."
   ]
  },
  {
   "cell_type": "code",
   "execution_count": null,
   "metadata": {},
   "outputs": [],
   "source": [
    "plt.figure(figsize=(15,10))\n",
    "store_data.Category.value_counts().plot(kind=\"bar\");\n",
    "plt.title(\"Category Vs App Count\")\n",
    "plt.xlabel(\"Category\")\n",
    "plt.ylabel(\"Count\")\n",
    "plt.plot();"
   ]
  },
  {
   "cell_type": "markdown",
   "metadata": {},
   "source": [
    "We can clearly see that the categoreis `Family` and `Game` dominate the app store more the other categories"
   ]
  },
  {
   "cell_type": "markdown",
   "metadata": {},
   "source": [
    "Next, let's see if there is a relationship between the categories and the rating in order to see if there are certain categories that get higher ratings than others."
   ]
  },
  {
   "cell_type": "code",
   "execution_count": null,
   "metadata": {},
   "outputs": [],
   "source": [
    "fig = plt.figure(figsize=(12,10))\n",
    "plt.title(\"Rating Vs Category\")\n",
    "plt.xlabel(\"Rating\")\n",
    "plt.ylabel(\"Category\")\n",
    "plt.show(plt.scatter(store_data.Rating, store_data.Category))"
   ]
  },
  {
   "cell_type": "markdown",
   "metadata": {},
   "source": [
    "We can see from the figure that there are no categories that do significantly better than others in terms of ratings."
   ]
  },
  {
   "cell_type": "markdown",
   "metadata": {},
   "source": [
    "Next, let's explore the `Price`s of the apps. We start by seeing the counts of the Paid and Free apps."
   ]
  },
  {
   "cell_type": "code",
   "execution_count": null,
   "metadata": {},
   "outputs": [],
   "source": [
    "plt.title(\"Type Vs Count\")\n",
    "plt.xlabel(\"Type\")\n",
    "plt.ylabel(\"Count\")\n",
    "store_data_copy['Type'].value_counts().plot(kind='bar')"
   ]
  },
  {
   "cell_type": "markdown",
   "metadata": {},
   "source": [
    "As we can see the free apps dominate the app store more than the paid ones"
   ]
  },
  {
   "cell_type": "markdown",
   "metadata": {},
   "source": [
    "Next, we wanted to see the distribution of prices of the paid apps."
   ]
  },
  {
   "cell_type": "code",
   "execution_count": null,
   "metadata": {},
   "outputs": [],
   "source": [
    "df = store_data[store_data.Price != 0.0]\n",
    "df['Price'].value_counts().plot(kind='barh', figsize=(10,20))\n",
    "# plt.figure(figsize=(20,5))\n",
    "# sns.boxplot(\n",
    "#     data=store_data_copy,\n",
    "#     x='Installs',\n",
    "#     y='Reviews',\n",
    "#     color='red')"
   ]
  },
  {
   "cell_type": "markdown",
   "metadata": {},
   "source": [
    "Next, we will explore the `Content Rating` attribute. Let's see which age group is targeted more in the app store."
   ]
  },
  {
   "cell_type": "code",
   "execution_count": null,
   "metadata": {},
   "outputs": [],
   "source": [
    "store_data[\"Content Rating\"].value_counts().plot(kind=\"bar\");\n",
    "plt.title(\"Content Rating Vs Count\");\n",
    "plt.xlabel(\"Content Rating\");\n",
    "plt.ylabel(\"Count\");\n",
    "plt.plot();"
   ]
  },
  {
   "cell_type": "markdown",
   "metadata": {},
   "source": [
    "As we can see there is no certain age group that is more targeted by the app store and the apps are mostly for everyone."
   ]
  },
  {
   "cell_type": "markdown",
   "metadata": {},
   "source": [
    "Next, let's see the `Rating` attribute. We wanted to know the average ratings of the apps."
   ]
  },
  {
   "cell_type": "code",
   "execution_count": null,
   "metadata": {},
   "outputs": [],
   "source": [
    "store_data.Rating.plot(kind=\"hist\")\n",
    "plt.title(\"Rating Vs Count\");\n",
    "plt.xlabel(\"Rating\");\n",
    "plt.ylabel(\"Count\");"
   ]
  },
  {
   "cell_type": "markdown",
   "metadata": {},
   "source": [
    "As we can see most app ratings are between 4 and 5."
   ]
  },
  {
   "cell_type": "code",
   "execution_count": null,
   "metadata": {},
   "outputs": [],
   "source": [
    "store_data_copy.boxplot(column='Rating', by='Category', figsize=(52,10))"
   ]
  },
  {
   "cell_type": "code",
   "execution_count": null,
   "metadata": {},
   "outputs": [],
   "source": [
    "store_data_copy.boxplot(column='Size', by='Installs', figsize=(22,20))"
   ]
  },
  {
   "cell_type": "code",
   "execution_count": null,
   "metadata": {},
   "outputs": [],
   "source": [
    "store_data_copy.boxplot(column='Installs', by='Price', figsize=(70,10))"
   ]
  },
  {
   "cell_type": "markdown",
   "metadata": {},
   "source": [
    "Done: (Price & Count), (Type & Count), (Category & Rating) \n",
    "\n",
    "\n",
    "Yet to be done: 1- Visualization: Installs & Price, Installs & Category (Installs axis can be entered as an array of the unique Installs values)\n",
    "\n",
    "\n",
    "   2- Cleaning: Split Genres\n",
    "\n",
    "\n",
    "Attempted: Size & Installs"
   ]
  },
  {
   "cell_type": "code",
   "execution_count": null,
   "metadata": {},
   "outputs": [],
   "source": [
    "store_data_copy['SizeRange'] = 'NaN'\n",
    "store_data_copy['SizeRange'].values[1 * 1e9 <= store_data_copy['Size']] = '1GB+'\n",
    "store_data_copy['SizeRange'].values[store_data_copy['Size'] < 1 * 1e9] = '500MB - 1GB'\n",
    "store_data_copy['SizeRange'].values[store_data_copy['Size'] < 500 * 1e6] = '200MB - 500MB'\n",
    "store_data_copy['SizeRange'].values[store_data_copy['Size'] < 200 * 1e6] = '100MB - 200MB'\n",
    "store_data_copy['SizeRange'].values[store_data_copy['Size'] < 100 * 1e6] = '50MB - 100MB'\n",
    "store_data_copy['SizeRange'].values[store_data_copy['Size'] < 50 * 1e6] = '10MB - 50MB'\n",
    "store_data_copy['SizeRange'].values[store_data_copy['Size'] <= 10 * 1e6] = '1MB - 10MB'\n",
    "store_data_copy['SizeRange'].values[store_data_copy['SizeRange'] == 'NaN'] = np.nan\n",
    "\n",
    "store_data_copy['SizeRange'].dropna().value_counts().plot(kind='barh', figsize=(10,2))"
   ]
  },
  {
   "cell_type": "code",
   "execution_count": null,
   "metadata": {},
   "outputs": [],
   "source": [
    "plt.figure(figsize=(80, 5))\n",
    "plt.show(plt.scatter(store_data_copy.dropna().Category, store_data_copy.dropna().SizeRange))"
   ]
  },
  {
   "cell_type": "code",
   "execution_count": null,
   "metadata": {},
   "outputs": [],
   "source": [
    "store_data_copy.hist(column='Size', bins=110, grid=False, figsize=(10, 5), zorder=2, alpha=0.7)"
   ]
  },
  {
   "cell_type": "code",
   "execution_count": null,
   "metadata": {},
   "outputs": [],
   "source": [
    "plt.figure(figsize=(20, 5))\n",
    "plt.show(plt.scatter(store_data_copy.dropna().Price, store_data_copy.dropna().SizeRange))"
   ]
  },
  {
   "cell_type": "code",
   "execution_count": null,
   "metadata": {},
   "outputs": [],
   "source": [
    "plt.figure(figsize=(20, 5))\n",
    "plt.show(plt.scatter(store_data_copy.dropna().Reviews, store_data_copy.dropna().SizeRange))"
   ]
  },
  {
   "cell_type": "code",
   "execution_count": null,
   "metadata": {},
   "outputs": [],
   "source": [
    "store_data_copy.boxplot(column='Installs', by='SizeRange', figsize=(10,5))"
   ]
  },
  {
   "cell_type": "code",
   "execution_count": null,
   "metadata": {},
   "outputs": [],
   "source": [
    "store_data_copy.boxplot(column='Rating', by='SizeRange', figsize=(10,5))"
   ]
  },
  {
   "cell_type": "code",
   "execution_count": null,
   "metadata": {},
   "outputs": [],
   "source": [
    "store_data_copy.boxplot(column='Reviews', by='SizeRange', figsize=(10,5))"
   ]
  },
  {
   "cell_type": "code",
   "execution_count": null,
   "metadata": {},
   "outputs": [],
   "source": [
    "store_data_copy.boxplot(column='Reviews', by='Category', figsize=(70,8))"
   ]
  },
  {
   "cell_type": "markdown",
   "metadata": {},
   "source": [
    "---"
   ]
  }
 ],
 "metadata": {
  "kernelspec": {
   "display_name": "Python 3",
   "language": "python",
   "name": "python3"
  },
  "language_info": {
   "codemirror_mode": {
    "name": "ipython",
    "version": 3
   },
   "file_extension": ".py",
   "mimetype": "text/x-python",
   "name": "python",
   "nbconvert_exporter": "python",
   "pygments_lexer": "ipython3",
   "version": "3.7.1"
  }
 },
 "nbformat": 4,
 "nbformat_minor": 2
}
